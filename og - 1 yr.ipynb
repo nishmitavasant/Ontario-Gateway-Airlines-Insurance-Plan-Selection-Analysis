{
 "cells": [
  {
   "cell_type": "markdown",
   "metadata": {},
   "source": [
    "### Ontario Gateway: 1 year"
   ]
  },
  {
   "cell_type": "code",
   "execution_count": 68,
   "metadata": {},
   "outputs": [],
   "source": [
    "import numpy as np\n",
    "import pandas as pd"
   ]
  },
  {
   "cell_type": "code",
   "execution_count": 69,
   "metadata": {},
   "outputs": [],
   "source": [
    "# Aircraft info: Boeing 757-200, Airbus A340-200, Airbus A340-300, respectively\n",
    "num_aircraft = np.array([47, 15, 24])\n",
    "num_flights_per_day = np.array([6, 2.25, 2])\n",
    "replacement_cost = np.array([56400000, 78900000, 88500000], dtype=np.int64)\n",
    "fleet_value = np.dot(num_aircraft, replacement_cost)\n",
    "\n",
    "num_days_per_year = 342\n",
    "accident_rate = 1 / 5000000\n",
    "\n",
    "num_flights_per_year = np.ceil(num_aircraft * num_flights_per_day * num_days_per_year).astype(int)"
   ]
  },
  {
   "cell_type": "code",
   "execution_count": 70,
   "metadata": {},
   "outputs": [],
   "source": [
    "N = 10000000\n",
    "M = len(num_aircraft)\n",
    "\n",
    "dat_accident = np.zeros((N, M))\n",
    "\n",
    "for k in range(M):\n",
    "    dat_accident[:, k] = np.random.binomial(num_flights_per_year[k], accident_rate, N)\n",
    "\n",
    "aircraft_losses = np.sum(dat_accident * replacement_cost, axis=1)\n",
    "incidental_losses = np.random.uniform(1000000, 5000000, N)\n",
    "total_losses = aircraft_losses + incidental_losses"
   ]
  },
  {
   "cell_type": "code",
   "execution_count": 71,
   "metadata": {},
   "outputs": [],
   "source": [
    "cost_RCNC1 = 0.0045 * fleet_value + 0.10 * total_losses\n",
    "cost_RCNC2 = 0.001 * fleet_value + np.minimum(0.90 * total_losses, 0.01 * fleet_value)\n",
    "cost_CTC = 13000000 + 0.10 * np.minimum(total_losses, 80000000) + np.maximum(total_losses - 80000000, 0)\n",
    "cost_HIC = 0.00165 * fleet_value + np.minimum(total_losses, 24000000)\n",
    "cost_SELF = total_losses"
   ]
  },
  {
   "cell_type": "code",
   "execution_count": 72,
   "metadata": {},
   "outputs": [],
   "source": [
    "exceed_37M_RCNC1 = np.mean(cost_RCNC1 > 37000000)\n",
    "exceed_37M_RCNC2 = np.mean(cost_RCNC2 > 37000000)\n",
    "exceed_37M_CTC = np.mean(cost_CTC > 37000000)\n",
    "exceed_37M_HIC = np.mean(cost_HIC > 37000000)\n",
    "exceed_37M_SELF = np.mean(cost_SELF > 37000000)"
   ]
  },
  {
   "cell_type": "code",
   "execution_count": 73,
   "metadata": {},
   "outputs": [
    {
     "name": "stdout",
     "output_type": "stream",
     "text": [
      "  policy     exp_cost      sd_cost exceed37M\n",
      "0  RCNC1  $27,267,914   $1,012,259     0.03%\n",
      "1  RCNC2   $9,936,827   $8,144,181     2.45%\n",
      "2    CTC  $13,505,997   $1,744,971     0.03%\n",
      "3    HIC  $13,345,713   $3,440,533     0.00%\n",
      "4   SELF   $4,555,640  $10,122,590     2.45%\n"
     ]
    }
   ],
   "source": [
    "policy_summary = pd.DataFrame({\n",
    "    \"policy\": [\"RCNC1\", \"RCNC2\", \"CTC\", \"HIC\", \"SELF\"],\n",
    "    \"exp_cost\": [np.mean(cost_RCNC1), np.mean(cost_RCNC2), np.mean(cost_CTC), np.mean(cost_HIC), np.mean(cost_SELF)],\n",
    "    \"sd_cost\": [np.std(cost_RCNC1, ddof = 1), np.std(cost_RCNC2, ddof = 1), np.std(cost_CTC, ddof = 1), np.std(cost_HIC, ddof = 1), np.std(cost_SELF, ddof = 1)],\n",
    "    \"exceed37M\": [exceed_37M_RCNC1, exceed_37M_RCNC2, exceed_37M_CTC, exceed_37M_HIC, exceed_37M_SELF]\n",
    "})\n",
    "policy_summary['exp_cost'] = policy_summary['exp_cost'].map(lambda x: f\"${x:,.0f}\")\n",
    "policy_summary['sd_cost'] = policy_summary['sd_cost'].map(lambda x: f\"${x:,.0f}\")\n",
    "policy_summary['exceed37M'] = policy_summary['exceed37M'].map(lambda x: f\"{x*100:,.2f}%\")\n",
    "print(policy_summary)"
   ]
  }
 ],
 "metadata": {
  "kernelspec": {
   "display_name": "Python 3 (ipykernel)",
   "language": "python",
   "name": "python3"
  },
  "language_info": {
   "codemirror_mode": {
    "name": "ipython",
    "version": 3
   },
   "file_extension": ".py",
   "mimetype": "text/x-python",
   "name": "python",
   "nbconvert_exporter": "python",
   "pygments_lexer": "ipython3",
   "version": "3.11.4"
  },
  "vscode": {
   "interpreter": {
    "hash": "d4d1e4263499bec80672ea0156c357c1ee493ec2b1c70f0acce89fc37c4a6abe"
   }
  }
 },
 "nbformat": 4,
 "nbformat_minor": 4
}
